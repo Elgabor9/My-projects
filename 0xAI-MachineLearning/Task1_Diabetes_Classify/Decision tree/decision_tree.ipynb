{
  "cells": [
    {
      "cell_type": "markdown",
      "metadata": {},
      "source": "\n# Diabetes Prediction — Decision Tree  \n**Task date:** 2025-08-31\n\nThis notebook follows the required steps:\n1. EDA (pandas, matplotlib)  \n2. Data preprocessing  \n3. Feature extraction & selection  \n4. Train/Test split  \n5. Train the model  \n6. Evaluate with **F1 score** and **confusion matrix** (*bonus*)  \n7. (*bonus*) Export a multi-page PDF report of key figures and metrics  \n8. Save the trained model to `./model/decision_tree_model.pkl` for the GUI app\n\n> **Dataset path:** `./data/diabetes_prediction_dataset.csv`  \nPlace the CSV there before running. Column names expected by the task:  \n`gender, age, hypertension, heart_disease, smoking_history, bmi, HbA1c_level, blood_glucose_level, diabetes`\n"
    },
    {
      "cell_type": "code",
      "execution_count": null,
      "metadata": {},
      "outputs": [],
      "source": "\n# Imports\nimport os, json, math, pickle, warnings\nwarnings.filterwarnings(\"ignore\")\n\nimport numpy as np\nimport pandas as pd\nimport matplotlib.pyplot as plt\n\nfrom sklearn.model_selection import train_test_split\nfrom sklearn.preprocessing import StandardScaler\nfrom sklearn.metrics import f1_score, confusion_matrix, classification_report, roc_auc_score, roc_curve\nfrom sklearn.compose import ColumnTransformer\nfrom sklearn.pipeline import Pipeline\nfrom sklearn.impute import SimpleImputer\nfrom sklearn.preprocessing import OneHotEncoder\n\nfrom matplotlib.backends.backend_pdf import PdfPages\n\n# Utility: ensure folders\nos.makedirs(\"./model\", exist_ok=True)\nos.makedirs(\"./figures\", exist_ok=True)\n\nDATA_PATH = \"./data/diabetes_prediction_dataset.csv\"\n\n# Helper to show value counts nicely\ndef vc(df, col):\n    return df[col].value_counts(dropna=False).rename_axis(col).to_frame(\"count\")\n"
    },
    {
      "cell_type": "code",
      "execution_count": null,
      "metadata": {},
      "outputs": [],
      "source": "\n# Load data\nif not os.path.exists(DATA_PATH):\n    raise FileNotFoundError(f\"Dataset not found at {DATA_PATH}. Please add the CSV first.\")\n\ndf = pd.read_csv(DATA_PATH)\n\n# Standardize column names if needed\ndf.columns = [c.strip().lower() for c in df.columns]\n\nexpected = [\"gender\",\"age\",\"hypertension\",\"heart_disease\",\"smoking_history\",\"bmi\",\"hba1c_level\",\"blood_glucose_level\",\"diabetes\"]\nmissing = [c for c in expected if c not in df.columns]\nif missing:\n    raise ValueError(f\"Missing columns: {missing}. Please ensure the dataset has the correct headers.\")\n\n# Basic check\nprint(df.head())\nprint(\"\\nShape:\", df.shape)\nprint(\"\\nTarget distribution:\")\nprint(df['diabetes'].value_counts(normalize=True).round(3))\n"
    },
    {
      "cell_type": "code",
      "execution_count": null,
      "metadata": {},
      "outputs": [],
      "source": "\n# === EDA ===\nprint(\"Info:\")\nprint(df.info())\n\nprint(\"\\nDescribe:\")\nprint(df.describe(include='all'))\n\n# Missing values\nprint(\"\\nMissing per column:\")\nprint(df.isna().sum())\n\n# Distributions\nnum_cols = [\"age\",\"bmi\",\"hba1c_level\",\"blood_glucose_level\"]\nfor c in num_cols:\n    plt.figure()\n    df[c].hist(bins=30)\n    plt.title(f\"Distribution of {c}\")\n    plt.xlabel(c)\n    plt.ylabel(\"Frequency\")\n    plt.show()\n\n# Categorical summaries\nfor c in [\"gender\",\"smoking_history\",\"hypertension\",\"heart_disease\",\"diabetes\"]:\n    display(vc(df, c))\n"
    },
    {
      "cell_type": "code",
      "execution_count": null,
      "metadata": {},
      "outputs": [],
      "source": "\n# === Preprocessing & Split ===\nX = df.drop(columns=[\"diabetes\"])\ny = df[\"diabetes\"].astype(int)\n\ncat_cols = [\"gender\",\"smoking_history\",\"hypertension\",\"heart_disease\"]\nnum_cols = [\"age\",\"bmi\",\"hba1c_level\",\"blood_glucose_level\"]\n\n# Cast binary to category to be safe (hypertension, heart_disease)\nfor c in [\"hypertension\",\"heart_disease\"]:\n    if X[c].dtype != 'O':\n        X[c] = X[c].astype('category')\n\nnumeric_transformer = Pipeline(steps=[\n    (\"imputer\", SimpleImputer(strategy=\"median\")),\n    (\"scaler\", StandardScaler())\n])\n\ncategorical_transformer = Pipeline(steps=[\n    (\"imputer\", SimpleImputer(strategy=\"most_frequent\")),\n    (\"onehot\", OneHotEncoder(handle_unknown=\"ignore\"))\n])\n\npreprocessor = ColumnTransformer(\n    transformers=[\n        (\"num\", numeric_transformer, num_cols),\n        (\"cat\", categorical_transformer, cat_cols),\n    ]\n)\n\n# Train/test split (stratified)\nX_train, X_test, y_train, y_test = train_test_split(\n    X, y, test_size=0.2, random_state=42, stratify=y\n)\n\nprint(\"Train shape:\", X_train.shape, \" Test shape:\", X_test.shape)\nprint(\"Train target balance:\", y_train.mean().round(3), \" Test target balance:\", y_test.mean().round(3))\n"
    },
    {
      "cell_type": "code",
      "execution_count": null,
      "metadata": {},
      "outputs": [],
      "source": "\n# === Evaluation helpers ===\ndef evaluate_and_plots(model, X_test, y_test, model_name=\"Model\", pdf_path=None):\n    y_pred = model.predict(X_test)\n    f1 = f1_score(y_test, y_pred)\n    print(f\"{model_name} F1 score:\", round(f1, 4))\n    print(\"\\nClassification Report:\")\n    print(classification_report(y_test, y_pred, digits=4))\n\n    # Confusion Matrix\n    cm = confusion_matrix(y_test, y_pred)\n    fig_cm = plt.figure()\n    plt.imshow(cm, interpolation='nearest')\n    plt.title(f'Confusion Matrix - {model_name}')\n    plt.colorbar()\n    tick_marks = np.arange(2)\n    plt.xticks(tick_marks, ['No Diabetes', 'Diabetes'])\n    plt.yticks(tick_marks, ['No Diabetes', 'Diabetes'])\n    thresh = cm.max() / 2.\n    for i in range(cm.shape[0]):\n        for j in range(cm.shape[1]):\n            plt.text(j, i, format(cm[i, j], 'd'),\n                     horizontalalignment=\"center\",\n                     color=\"white\" if cm[i, j] > thresh else \"black\")\n    plt.ylabel('True label')\n    plt.xlabel('Predicted label')\n    plt.tight_layout()\n    plt.show()\n\n    # ROC Curve (if predict_proba available)\n    try:\n        y_proba = model.predict_proba(X_test)[:,1]\n        auc = roc_auc_score(y_test, y_proba)\n        print(f\"ROC-AUC: {auc:.4f}\")\n        fpr, tpr, thr = roc_curve(y_test, y_proba)\n        fig_roc = plt.figure()\n        plt.plot(fpr, tpr, label=f\"AUC={auc:.3f}\")\n        plt.plot([0,1],[0,1], linestyle=\"--\")\n        plt.title(f\"ROC Curve - {model_name}\")\n        plt.xlabel(\"False Positive Rate\")\n        plt.ylabel(\"True Positive Rate\")\n        plt.legend(loc=\"lower right\")\n        plt.tight_layout()\n        plt.show()\n    except Exception as e:\n        fig_roc = None\n        print(\"predict_proba not available or ROC failed:\", e)\n\n    # Save figures to multipage PDF (bonus)\n    if pdf_path is not None:\n        with PdfPages(pdf_path) as pdf:\n            # Add a text page\n            fig_text = plt.figure()\n            plt.axis('off')\n            lines = [\n                f\"Report: {model_name}\",\n                \"\",\n                f\"F1 score: {f1:.4f}\",\n            ]\n            try:\n                lines.append(f\"ROC-AUC: {auc:.4f}\")\n            except:\n                pass\n            plt.text(0.01, 0.99, \"\\n\".join(lines), va='top')\n            pdf.savefig(fig_text)\n            plt.close(fig_text)\n\n            # Save CM figure\n            if plt.fignum_exists(fig_cm.number):\n                pdf.savefig(fig_cm)\n            plt.close(fig_cm)\n\n            # Save ROC figure if created\n            if 'fig_roc' in locals() and fig_roc is not None and plt.fignum_exists(fig_roc.number):\n                pdf.savefig(fig_roc)\n                plt.close(fig_roc)\n\n        print(f\"\\nSaved PDF report to: {pdf_path}\")\n"
    },
    {
      "cell_type": "code",
      "execution_count": null,
      "metadata": {},
      "outputs": [],
      "source": "\nfrom sklearn.tree import DecisionTreeClassifier\n\ndt = Pipeline(steps=[\n    (\"preprocess\", preprocessor),\n    (\"clf\", DecisionTreeClassifier(random_state=42, max_depth=None, class_weight=None))\n])\n\ndt.fit(X_train, y_train)\n\nwith open(\"./model/decision_tree_model.pkl\", \"wb\") as f:\n    pickle.dump(dt, f)\n\nevaluate_and_plots(dt, X_test, y_test, model_name=\"Decision Tree\",\n                   pdf_path=\"./figures/decision_tree_report.pdf\")\n"
    },
    {
      "cell_type": "code",
      "execution_count": null,
      "metadata": {},
      "outputs": [],
      "source": "\n# Feature importance (Decision Tree / Random Forest) - approximate via one-hot names\ndef get_feature_names(preprocessor, X):\n    num_cols = preprocessor.transformers_[0][2]\n    cat = preprocessor.transformers_[1][1].named_steps[\"onehot\"]\n    cat_cols = preprocessor.transformers_[1][2]\n    ohe_names = list(cat.get_feature_names_out(cat_cols))\n    return list(num_cols) + ohe_names\n\ndef plot_importances(pipeline, X, topn=20, title=\"Feature Importance\"):\n    try:\n        clf = pipeline.named_steps[\"clf\"]\n        if hasattr(clf, \"feature_importances_\"):\n            feature_names = get_feature_names(pipeline.named_steps[\"preprocess\"], X)\n            importances = clf.feature_importances_\n            order = np.argsort(importances)[::-1][:topn]\n            names = [feature_names[i] for i in order]\n            vals = importances[order]\n\n            plt.figure()\n            y = np.arange(len(names))[::-1]\n            plt.barh(y, vals)\n            plt.yticks(y, names)\n            plt.title(title)\n            plt.xlabel(\"Importance\")\n            plt.tight_layout()\n            plt.show()\n        else:\n            print(\"Classifier has no feature_importances_.\")\n    except Exception as e:\n        print(\"Failed to plot importances:\", e)\n"
    },
    {
      "cell_type": "code",
      "execution_count": null,
      "metadata": {},
      "outputs": [],
      "source": "plot_importances(dt, X_train, topn=20, title='Decision Tree Feature Importance')"
    }
  ],
  "metadata": {
    "kernelspec": {
      "display_name": "Python 3",
      "language": "python",
      "name": "python3"
    },
    "language_info": {
      "name": "python",
      "version": "3.11.8"
    },
    "title": "Decision Tree"
  },
  "nbformat": 4,
  "nbformat_minor": 5
}